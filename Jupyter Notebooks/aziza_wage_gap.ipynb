{
 "cells": [
  {
   "cell_type": "markdown",
   "id": "5d93b6d7-88d3-46fd-9f0f-e4deeea78eb5",
   "metadata": {},
   "source": [
    "## **Import dependencies**"
   ]
  },
  {
   "cell_type": "code",
   "execution_count": 1,
   "id": "e82386db-7c63-4c51-9bd0-34e71704589d",
   "metadata": {},
   "outputs": [],
   "source": [
    "# Import SSS dependencies\n",
    "import sss\n",
    "from sss.base import default_db_file, AutomappedDB\n",
    "from sss import SSS\n",
    "from sqlalchemy import create_engine \n",
    "\n",
    "# Import dependencies to create a plot\n",
    "import pandas as pd\n",
    "import seaborn as sns\n",
    "import matplotlib.pyplot as plt\n",
    "import numpy as np"
   ]
  },
  {
   "cell_type": "markdown",
   "id": "b935f9eb-43c5-4552-bbe5-be1204b2770c",
   "metadata": {},
   "source": [
    "## **Connect to Database**"
   ]
  },
  {
   "cell_type": "code",
   "execution_count": 2,
   "id": "4971daef-9f32-493f-affc-d772f0660d4f",
   "metadata": {},
   "outputs": [],
   "source": [
    "# Connect to database\n",
    "db = AutomappedDB(db_file = '/Users/azizamirsaidova/Desktop/sss.sqlite')\n",
    "# Start a session\n",
    "session = db.sessionmaker()"
   ]
  },
  {
   "cell_type": "markdown",
   "id": "f02a35ef-d5cd-40c6-9ac9-dae177076dfe",
   "metadata": {},
   "source": [
    "## **Create a query and dataframe**"
   ]
  },
  {
   "cell_type": "code",
   "execution_count": 3,
   "id": "2090152d-9f49-4f42-93d5-e284271980b2",
   "metadata": {},
   "outputs": [],
   "source": [
    "query = session.query(SSS).filter(SSS.year == 2020)\n",
    "df = pd.read_sql(query.statement, db.engine)"
   ]
  },
  {
   "cell_type": "code",
   "execution_count": 5,
   "id": "7b506729-35fa-4c98-a9b7-8f28bfd09378",
   "metadata": {},
   "outputs": [],
   "source": [
    "# Creating a query using SQL\n",
    "sql = 'select * from self_sufficiency_standard where year == 2020'\n",
    "\n",
    "# Creating a dataframe from SQL query\n",
    "dfw = pd.read_sql(sql, con=db.engine)"
   ]
  },
  {
   "cell_type": "code",
   "execution_count": 6,
   "id": "801b5cb0-a467-4bb0-921d-b5dcb615af61",
   "metadata": {},
   "outputs": [
    {
     "data": {
      "text/plain": [
       "2020    74776\n",
       "Name: year, dtype: int64"
      ]
     },
     "execution_count": 6,
     "metadata": {},
     "output_type": "execute_result"
    }
   ],
   "source": [
    "# Since we get the values for only year 2020, we only have year 2020 values\n",
    "dfw.year.value_counts()"
   ]
  },
  {
   "cell_type": "markdown",
   "id": "364f659b-7670-45b0-9d28-87004cc35521",
   "metadata": {},
   "source": [
    "### **Main family types used in our analysis**\n",
    "\n",
    "1 Adult -> a1i0p0s0t0\n",
    "\n",
    "1 Adult 1 Preschooler -> a1i0p1s0t0\n",
    "\n",
    "1 Adult 1 Preschooler + 1 Schoolage -> a1i0p1s1t0\n",
    "\n",
    "2 Adults & 1 Preschooler + 1 Schoolage -> a2i0p1s1t0\n",
    "\n",
    "2 Adults & 1 Infant + 1 Preschooler + 1 Schoolage -> a2i1p1s1t0\n",
    "\n"
   ]
  },
  {
   "cell_type": "markdown",
   "id": "9f280eb7-ca42-417b-bace-8cafccb58d64",
   "metadata": {},
   "source": [
    "## **Pre-process the data to prepare for analysis**"
   ]
  },
  {
   "cell_type": "code",
   "execution_count": 7,
   "id": "cf22bea5-772a-49ad-86b7-089c5ad31b63",
   "metadata": {},
   "outputs": [],
   "source": [
    "# Only choose the state WA and CA for our analysis\n",
    "final = dfw[dfw['state'].isin(['WA', 'CA'])]\n",
    "\n",
    "# Choosing only three main family types\n",
    "wa_1adult = final[final['family_type'].isin(['a1i0p0s0t0', 'a1i0p1s0t0', 'a1i0p1s1t0'])]\n",
    "\n",
    "# Choosing only King and San Francisco County\n",
    "wa_1adult = wa_1adult[wa_1adult['place'].isin(['King County (Seattle)', 'San Francisco County'])]\n",
    "\n",
    "# Consolidate the columns and choose the columns that you only need\n",
    "wa_1adult = wa_1adult[['family_type','place','annual_self_sufficiency_wage', 'year']]"
   ]
  },
  {
   "cell_type": "code",
   "execution_count": 8,
   "id": "e1b3013c-10d7-4ccd-8158-16c704bfba20",
   "metadata": {},
   "outputs": [
    {
     "data": {
      "text/html": [
       "<div>\n",
       "<style scoped>\n",
       "    .dataframe tbody tr th:only-of-type {\n",
       "        vertical-align: middle;\n",
       "    }\n",
       "\n",
       "    .dataframe tbody tr th {\n",
       "        vertical-align: top;\n",
       "    }\n",
       "\n",
       "    .dataframe thead th {\n",
       "        text-align: right;\n",
       "    }\n",
       "</style>\n",
       "<table border=\"1\" class=\"dataframe\">\n",
       "  <thead>\n",
       "    <tr style=\"text-align: right;\">\n",
       "      <th></th>\n",
       "      <th>label</th>\n",
       "      <th>estimate</th>\n",
       "      <th>moe</th>\n",
       "    </tr>\n",
       "  </thead>\n",
       "  <tbody>\n",
       "    <tr>\n",
       "      <th>6</th>\n",
       "      <td>Male:</td>\n",
       "      <td>73415</td>\n",
       "      <td>±1,970</td>\n",
       "    </tr>\n",
       "    <tr>\n",
       "      <th>12</th>\n",
       "      <td>Female:</td>\n",
       "      <td>56199</td>\n",
       "      <td>±1,154</td>\n",
       "    </tr>\n",
       "  </tbody>\n",
       "</table>\n",
       "</div>"
      ],
      "text/plain": [
       "          label  estimate     moe\n",
       "6         Male:     73415  ±1,970\n",
       "12      Female:     56199  ±1,154"
      ]
     },
     "execution_count": 8,
     "metadata": {},
     "output_type": "execute_result"
    }
   ],
   "source": [
    "# Gender Wage gap data from Census\n",
    "# Reading a new file and conducting pre-processing of the values\n",
    "cs = pd.read_csv('/Users/azizamirsaidova/Downloads/gender_wage_seattle.csv')\n",
    "cs = cs.rename(columns = {'Seattle city, Washington!!Estimate': 'estimate', 'Seattle city, Washington!!Margin of Error':'moe', 'Label (Grouping)':'label'})\n",
    "\n",
    "gender = ['Male', 'Female']\n",
    "gd = cs[cs['label'].str.contains('|'.join(gender))] \n",
    "gd.estimate = [val.replace(',','') for val in gd.estimate.values]\n",
    "gd.estimate = gd.estimate.astype(int)\n",
    "gd"
   ]
  },
  {
   "cell_type": "code",
   "execution_count": 9,
   "id": "7ccfa050-563a-44c7-af1e-372d928caf22",
   "metadata": {},
   "outputs": [
    {
     "data": {
      "text/html": [
       "<div>\n",
       "<style scoped>\n",
       "    .dataframe tbody tr th:only-of-type {\n",
       "        vertical-align: middle;\n",
       "    }\n",
       "\n",
       "    .dataframe tbody tr th {\n",
       "        vertical-align: top;\n",
       "    }\n",
       "\n",
       "    .dataframe thead th {\n",
       "        text-align: right;\n",
       "    }\n",
       "</style>\n",
       "<table border=\"1\" class=\"dataframe\">\n",
       "  <thead>\n",
       "    <tr style=\"text-align: right;\">\n",
       "      <th></th>\n",
       "      <th>family_type</th>\n",
       "      <th>place</th>\n",
       "      <th>annual_self_sufficiency_wage</th>\n",
       "      <th>year</th>\n",
       "    </tr>\n",
       "  </thead>\n",
       "  <tbody>\n",
       "    <tr>\n",
       "      <th>0</th>\n",
       "      <td>a1i0p0s0t0</td>\n",
       "      <td>San Francisco County</td>\n",
       "      <td>55505.49</td>\n",
       "      <td>2020</td>\n",
       "    </tr>\n",
       "    <tr>\n",
       "      <th>1</th>\n",
       "      <td>a1i0p1s0t0</td>\n",
       "      <td>San Francisco County</td>\n",
       "      <td>108529.82</td>\n",
       "      <td>2020</td>\n",
       "    </tr>\n",
       "    <tr>\n",
       "      <th>2</th>\n",
       "      <td>a1i0p1s1t0</td>\n",
       "      <td>San Francisco County</td>\n",
       "      <td>132285.84</td>\n",
       "      <td>2020</td>\n",
       "    </tr>\n",
       "    <tr>\n",
       "      <th>3</th>\n",
       "      <td>a1i0p0s0t0</td>\n",
       "      <td>King County (Seattle)</td>\n",
       "      <td>36064.73</td>\n",
       "      <td>2020</td>\n",
       "    </tr>\n",
       "    <tr>\n",
       "      <th>4</th>\n",
       "      <td>a1i0p1s0t0</td>\n",
       "      <td>King County (Seattle)</td>\n",
       "      <td>69215.38</td>\n",
       "      <td>2020</td>\n",
       "    </tr>\n",
       "    <tr>\n",
       "      <th>5</th>\n",
       "      <td>a1i0p1s1t0</td>\n",
       "      <td>King County (Seattle)</td>\n",
       "      <td>82044.82</td>\n",
       "      <td>2020</td>\n",
       "    </tr>\n",
       "    <tr>\n",
       "      <th>6</th>\n",
       "      <td>Male</td>\n",
       "      <td>King County (Seattle)</td>\n",
       "      <td>73415.00</td>\n",
       "      <td>2020</td>\n",
       "    </tr>\n",
       "    <tr>\n",
       "      <th>7</th>\n",
       "      <td>Female</td>\n",
       "      <td>King County (Seattle)</td>\n",
       "      <td>56199.00</td>\n",
       "      <td>2020</td>\n",
       "    </tr>\n",
       "    <tr>\n",
       "      <th>8</th>\n",
       "      <td>Male</td>\n",
       "      <td>San Francisco County</td>\n",
       "      <td>73415.00</td>\n",
       "      <td>2020</td>\n",
       "    </tr>\n",
       "    <tr>\n",
       "      <th>9</th>\n",
       "      <td>Female</td>\n",
       "      <td>San Francisco County</td>\n",
       "      <td>56199.00</td>\n",
       "      <td>2020</td>\n",
       "    </tr>\n",
       "  </tbody>\n",
       "</table>\n",
       "</div>"
      ],
      "text/plain": [
       "  family_type                  place  annual_self_sufficiency_wage  year\n",
       "0  a1i0p0s0t0   San Francisco County                      55505.49  2020\n",
       "1  a1i0p1s0t0   San Francisco County                     108529.82  2020\n",
       "2  a1i0p1s1t0   San Francisco County                     132285.84  2020\n",
       "3  a1i0p0s0t0  King County (Seattle)                      36064.73  2020\n",
       "4  a1i0p1s0t0  King County (Seattle)                      69215.38  2020\n",
       "5  a1i0p1s1t0  King County (Seattle)                      82044.82  2020\n",
       "6        Male  King County (Seattle)                      73415.00  2020\n",
       "7      Female  King County (Seattle)                      56199.00  2020\n",
       "8        Male   San Francisco County                      73415.00  2020\n",
       "9      Female   San Francisco County                      56199.00  2020"
      ]
     },
     "execution_count": 9,
     "metadata": {},
     "output_type": "execute_result"
    }
   ],
   "source": [
    "# Considering two dataframes: gender and wage gap has a different length of values per column. We created one csv file merging these two dataframes\n",
    "updated = pd.read_csv('/Users/azizamirsaidova/data_for_wage.csv')\n",
    "updated"
   ]
  },
  {
   "cell_type": "markdown",
   "id": "102258d6-aa94-433f-be93-b52e53b89a69",
   "metadata": {},
   "source": [
    "## **Create Visualization to plot Gender Wage gap**"
   ]
  },
  {
   "cell_type": "code",
   "execution_count": 10,
   "id": "2fab4e17-2eee-4daa-86f1-0e2b66aa6b61",
   "metadata": {},
   "outputs": [
    {
     "data": {
      "image/png": "[encoded data removed]",
      "text/plain": [
       "<Figure size 1220.03x360 with 2 Axes>"
      ]
     },
     "metadata": {
      "needs_background": "light"
     },
     "output_type": "display_data"
    }
   ],
   "source": [
    "sns.set(font_scale=1.5)\n",
    "sns.set_style('ticks')\n",
    "\n",
    "# Create a categorical plot which lists two cities together\n",
    "g = sns.catplot(x=\"year\", y=\"annual_self_sufficiency_wage\",\n",
    "                hue=\"family_type\", \n",
    "                col=\"place\",\n",
    "                data=wa_1adult, kind=\"bar\",col_wrap=3,\n",
    "                height=5, aspect=1,\n",
    "                palette = ['#B7A57A','#7E76AA','#4B2E83']);\n",
    "\n",
    "(g.set_axis_labels(\"Year\", \"Annual Self Sufficiency Wage\",size=15)\n",
    ".set_titles(\"{col_name}\",size=15)\n",
    ".despine(left=True))\n",
    "\n",
    "# Add a line for gender wage gap highlight\n",
    "axes = g.axes.flatten()\n",
    "axes[1].axhline(73415.00, ls='--', linewidth=3, color='#2774ae')\n",
    "axes[1].axhline(56199.00, ls='--', linewidth=3, color='#ffc72c')\n",
    "\n",
    "axes[0].axhline(78873, ls='--', linewidth=3, color='#2774ae')\n",
    "axes[0].axhline(64020, ls='--', linewidth=3, color='#ffc72c')\n",
    "\n",
    "\n",
    "# Add a Family Type legend\n",
    "new_title = 'Family Type'\n",
    "g._legend.set_title(new_title)\n",
    "new_labels = ['1 Adult', '1 Adult & 1 Preschooler','1 Adult & 1 Preschooler+1 Schoolage']\n",
    "for t, l in zip(g._legend.texts, new_labels):\n",
    "   t.set_text(l)\n",
    "sns.move_legend(g, \"upper left\", bbox_to_anchor=(.65, .45))\n"
   ]
  },
  {
   "cell_type": "code",
   "execution_count": 540,
   "id": "59d344e1-4d3a-4b04-b7e3-39b0042cc1e5",
   "metadata": {},
   "outputs": [],
   "source": [
    "# Save a file with transparent background\n",
    "g.savefig('Downloads/gender_comp.svg',dpi=500,transparent=True)"
   ]
  }
 ],
 "metadata": {
  "kernelspec": {
   "display_name": "Python 3 (ipykernel)",
   "language": "python",
   "name": "python3"
  },
  "language_info": {
   "codemirror_mode": {
    "name": "ipython",
    "version": 3
   },
   "file_extension": ".py",
   "mimetype": "text/x-python",
   "name": "python",
   "nbconvert_exporter": "python",
   "pygments_lexer": "ipython3",
   "version": "3.10.5"
  }
 },
 "nbformat": 4,
 "nbformat_minor": 5
}
