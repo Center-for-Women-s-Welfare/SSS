{
 "cells": [
  {
   "cell_type": "code",
   "execution_count": null,
   "id": "b95c5f07",
   "metadata": {},
   "outputs": [],
   "source": [
    "import pandas as pd\n",
    "import sss\n",
    "from sss import SSS\n",
    "from sss.base import db_url, AutomappedDB"
   ]
  },
  {
   "cell_type": "code",
   "execution_count": null,
   "id": "51932900",
   "metadata": {},
   "outputs": [],
   "source": [
    "db = AutomappedDB(db_url)\n",
    "session = db.sessionmaker()\n"
   ]
  },
  {
   "cell_type": "code",
   "execution_count": null,
   "id": "3594412b",
   "metadata": {},
   "outputs": [],
   "source": [
    "query = session.query(SSS).filter(SSS.state == 'NY')\n",
    "df = pd.read_sql(query.statement, db. engine)"
   ]
  },
  {
   "cell_type": "code",
   "execution_count": null,
   "id": "ecdf5bfa",
   "metadata": {},
   "outputs": [],
   "source": [
    "df"
   ]
  }
 ],
 "metadata": {
  "kernelspec": {
   "display_name": "Python 3 (ipykernel)",
   "language": "python",
   "name": "python3"
  },
  "language_info": {
   "codemirror_mode": {
    "name": "ipython",
    "version": 3
   },
   "file_extension": ".py",
   "mimetype": "text/x-python",
   "name": "python",
   "nbconvert_exporter": "python",
   "pygments_lexer": "ipython3",
   "version": "3.10.5"
  }
 },
 "nbformat": 4,
 "nbformat_minor": 5
}
