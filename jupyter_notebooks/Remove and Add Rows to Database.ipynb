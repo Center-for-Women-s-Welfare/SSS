{
 "cells": [
  {
   "cell_type": "code",
   "execution_count": 1,
   "id": "d7196957",
   "metadata": {},
   "outputs": [],
   "source": [
    "# Import SSS dependencies\n",
    "import sss\n",
    "from sss.base import default_db_file, AutomappedDB\n",
    "from sss import SSS\n",
    "from sqlalchemy import create_engine \n",
    "\n",
    "# Import dependencies to create a plot\n",
    "import pandas as pd\n",
    "import seaborn as sns\n",
    "import matplotlib.pyplot as plt\n",
    "import numpy as np"
   ]
  },
  {
   "cell_type": "code",
   "execution_count": 2,
   "id": "45ab38da",
   "metadata": {},
   "outputs": [],
   "source": [
    "# set the db file to be created in the directory outside of the current directory\n",
    "db_file = '/Users/anniekucklick/Library/CloudStorage/GoogleDrive-akuckl@uw.edu/Shared drives/CWW Team Drive/SSS/SSS_data/sss.sqlite'\n",
    "state_files = '/Users/anniekucklick/Library/CloudStorage/GoogleDrive-akuckl@uw.edu/Shared drives/CWW Team Drive/SSS/SSS_data/State_Files/'\n",
    "# creating the database\n",
    "db = AutomappedDB(db_file=db_file)\n",
    "\n",
    "# setting a connection to the database\n",
    "session = db.sessionmaker()"
   ]
  },
  {
   "cell_type": "code",
   "execution_count": 3,
   "id": "59e22ec9",
   "metadata": {},
   "outputs": [],
   "source": [
    "sss.sss_table.remove_state_year(\"CT\", 2023, db_file=db_file)"
   ]
  },
  {
   "cell_type": "code",
   "execution_count": 5,
   "id": "7869e834",
   "metadata": {},
   "outputs": [
    {
     "name": "stdout",
     "output_type": "stream",
     "text": [
      "We are processing: CT2023_SSS_Partial.xlsx\n",
      "CT2023_SSS_Partial.xlsx has been entered into the database\n"
     ]
    }
   ],
   "source": [
    "sss.sss_table.data_folder_to_database('/Users/anniekucklick/Library/CloudStorage/GoogleDrive-akuckl@uw.edu/Shared drives/CWW Team Drive/SSS/SSS_data/State_Files/CT2023_SSS_Partial.xlsx', db_file=db_file)"
   ]
  },
  {
   "cell_type": "code",
   "execution_count": null,
   "id": "e72fde39",
   "metadata": {},
   "outputs": [],
   "source": []
  }
 ],
 "metadata": {
  "kernelspec": {
   "display_name": "Python 3 (ipykernel)",
   "language": "python",
   "name": "python3"
  },
  "language_info": {
   "codemirror_mode": {
    "name": "ipython",
    "version": 3
   },
   "file_extension": ".py",
   "mimetype": "text/x-python",
   "name": "python",
   "nbconvert_exporter": "python",
   "pygments_lexer": "ipython3",
   "version": "3.11.0"
  }
 },
 "nbformat": 4,
 "nbformat_minor": 5
}
