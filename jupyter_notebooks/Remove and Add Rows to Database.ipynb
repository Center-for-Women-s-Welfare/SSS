{
 "cells": [
  {
   "cell_type": "code",
   "execution_count": null,
   "id": "d7196957",
   "metadata": {},
   "outputs": [],
   "source": [
    "# Import SSS dependencies\n",
    "import sss\n",
    "from sss.base import default_db_file, AutomappedDB\n",
    "from sss import SSS\n",
    "from sqlalchemy import create_engine \n",
    "\n",
    "# Import dependencies to create a plot\n",
    "import pandas as pd\n",
    "import seaborn as sns\n",
    "import matplotlib.pyplot as plt\n",
    "import numpy as np"
   ]
  },
  {
   "cell_type": "code",
   "execution_count": null,
   "id": "45ab38da",
   "metadata": {},
   "outputs": [],
   "source": [
    "# set the db file to be created in the directory outside of the current directory\n",
    "\n",
    "#Annie's laptop pathway\n",
    "#db_file = '/Users/anniekucklick/Library/CloudStorage/GoogleDrive-akuckl@uw.edu/Shared drives/CWW Team Drive/SSS/SSS_data/sss.sqlite'\n",
    "#state_files = '/Users/anniekucklick/Library/CloudStorage/GoogleDrive-akuckl@uw.edu/Shared drives/CWW Team Drive/SSS/SSS_data/State_Files/'\n",
    "\n",
    "#Sarah's pathway\n",
    "db_file = '/mnt/g/Shared drives/CWW Team Drive/SSS/SSS_data/sss.sqlite'\n",
    "state_files = '/mnt/g/Shared drives/CWW Team Drive/SSS/SSS_data/State_Files/'\n",
    "# creating the database\n",
    "db = AutomappedDB(db_file=db_file)\n",
    "\n",
    "# setting a connection to the database\n",
    "session = db.sessionmaker()"
   ]
  },
  {
   "cell_type": "code",
   "execution_count": null,
   "id": "59e22ec9",
   "metadata": {},
   "outputs": [],
   "source": [
    "sss.sss_table.remove_state_year(\"WI\", 2023, db_file=db_file)"
   ]
  },
  {
   "cell_type": "markdown",
   "id": "c4ae2a5e",
   "metadata": {},
   "source": [
    "Troubleshooting for uploading a file: Check the file ending. Is it .xlsx or .xlsb?"
   ]
  },
  {
   "cell_type": "code",
   "execution_count": null,
   "id": "7869e834",
   "metadata": {},
   "outputs": [],
   "source": [
    "#Annie\n",
    "#sss.sss_table.data_folder_to_database('/Users/anniekucklick/Library/CloudStorage/GoogleDrive-akuckl@uw.edu/Shared drives/CWW Team Drive/SSS/SSS_data/State_Files/CT2023_SSS_Partial.xlsx', db_file=db_file)\n",
    "\n",
    "#Sarah\n",
    "sss.sss_table.data_folder_to_database('/mnt/g/Shared drives/CWW Team Drive/SSS/SSS_data/State_Files/WI2023_SSS_Full.xlsx', db_file=db_file)"
   ]
  },
  {
   "cell_type": "code",
   "execution_count": null,
   "id": "e72fde39",
   "metadata": {},
   "outputs": [],
   "source": []
  }
 ],
 "metadata": {
  "kernelspec": {
   "display_name": "Python 3 (ipykernel)",
   "language": "python",
   "name": "python3"
  },
  "language_info": {
   "codemirror_mode": {
    "name": "ipython",
    "version": 3
   },
   "file_extension": ".py",
   "mimetype": "text/x-python",
   "name": "python",
   "nbconvert_exporter": "python",
   "pygments_lexer": "ipython3",
   "version": "3.10.5"
  }
 },
 "nbformat": 4,
 "nbformat_minor": 5
}
