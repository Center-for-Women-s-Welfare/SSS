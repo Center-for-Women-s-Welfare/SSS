{
 "cells": [
  {
   "cell_type": "code",
   "execution_count": 1,
   "id": "6f7070b3",
   "metadata": {},
   "outputs": [],
   "source": [
    "# Import SSS dependencies\n",
    "import sss\n",
    "from sss.base import default_db_file, AutomappedDB\n",
    "from sss import SSS\n",
    "from sqlalchemy import create_engine \n",
    "\n",
    "# Import dependencies to create a plot\n",
    "import pandas as pd\n",
    "import seaborn as sns\n",
    "import matplotlib.pyplot as plt\n",
    "import numpy as np"
   ]
  },
  {
   "cell_type": "code",
   "execution_count": 2,
   "id": "d5b1f3ff",
   "metadata": {},
   "outputs": [],
   "source": [
    "# set the db file to be created in the directory outside of the current directory\n",
    "db_file = '/Users/anniekucklick/Library/CloudStorage/GoogleDrive-akuckl@uw.edu/Shared drives/CWW Team Drive/SSS/SSS_data/sss.sqlite'\n",
    "\n",
    "# creating the database\n",
    "db = AutomappedDB(db_file=db_file)\n",
    "\n",
    "# setting a connection to the database\n",
    "session = db.sessionmaker()"
   ]
  },
  {
   "cell_type": "code",
   "execution_count": 3,
   "id": "65cdcf9c",
   "metadata": {},
   "outputs": [
    {
     "name": "stdout",
     "output_type": "stream",
     "text": [
      "     family_type state             place  year analysis_type  adult  infant  \\\n",
      "0     a1i0p0s0t0    AZ     Apache County  2023       Partial      1       0   \n",
      "1     a1i0p0s0t0    AZ    Cochise County  2023       Partial      1       0   \n",
      "2     a1i0p0s0t0    AZ   Coconino County  2023       Partial      1       0   \n",
      "3     a1i0p0s0t0    AZ       Gila County  2023       Partial      1       0   \n",
      "4     a1i0p0s0t0    AZ     Graham County  2023       Partial      1       0   \n",
      "...          ...   ...               ...   ...           ...    ...     ...   \n",
      "2489  a1i0p0s0t0    WI   Waukesha County  2023          Full      1       0   \n",
      "2490  a1i0p0s0t0    WI    Waupaca County  2023          Full      1       0   \n",
      "2491  a1i0p0s0t0    WI   Waushara County  2023          Full      1       0   \n",
      "2492  a1i0p0s0t0    WI  Winnebago County  2023          Full      1       0   \n",
      "2493  a1i0p0s0t0    WI       Wood County  2023          Full      1       0   \n",
      "\n",
      "      preschooler  schoolager  teenager  ... earned_income_tax_credit  \\\n",
      "0               0           0         0  ...                      0.0   \n",
      "1               0           0         0  ...                      0.0   \n",
      "2               0           0         0  ...                      0.0   \n",
      "3               0           0         0  ...                      0.0   \n",
      "4               0           0         0  ...                      0.0   \n",
      "...           ...         ...       ...  ...                      ...   \n",
      "2489            0           0         0  ...                      0.0   \n",
      "2490            0           0         0  ...                      0.0   \n",
      "2491            0           0         0  ...                      0.0   \n",
      "2492            0           0         0  ...                      0.0   \n",
      "2493            0           0         0  ...                      0.0   \n",
      "\n",
      "      child_care_tax_credit  child_tax_credit  hourly_self_sufficiency_wage  \\\n",
      "0                       0.0               0.0                         12.82   \n",
      "1                       0.0               0.0                         13.06   \n",
      "2                       0.0               0.0                         17.84   \n",
      "3                       0.0               0.0                         13.52   \n",
      "4                       0.0               0.0                         13.67   \n",
      "...                     ...               ...                           ...   \n",
      "2489                    0.0               0.0                         14.57   \n",
      "2490                    0.0               0.0                         12.07   \n",
      "2491                    0.0               0.0                         11.79   \n",
      "2492                    0.0               0.0                         12.64   \n",
      "2493                    0.0               0.0                         11.95   \n",
      "\n",
      "      monthly_self_sufficiency_wage  annual_self_sufficiency_wage  \\\n",
      "0                           2256.37                      27076.42   \n",
      "1                           2299.42                      27593.00   \n",
      "2                           3139.19                      37670.28   \n",
      "3                           2380.29                      28563.51   \n",
      "4                           2406.52                      28878.29   \n",
      "...                             ...                           ...   \n",
      "2489                        2564.44                      30773.24   \n",
      "2490                        2123.59                      25483.03   \n",
      "2491                        2075.57                      24906.80   \n",
      "2492                        2224.61                      26695.33   \n",
      "2493                        2102.66                      25231.89   \n",
      "\n",
      "      emergency_savings  miscellaneous_is_secondary  health_care_is_secondary  \\\n",
      "0                126.33                           1                         0   \n",
      "1                131.05                           1                         0   \n",
      "2                223.15                           1                         0   \n",
      "3                139.92                           1                         0   \n",
      "4                142.79                           1                         0   \n",
      "...                 ...                         ...                       ...   \n",
      "2489              80.58                           1                         0   \n",
      "2490              69.84                           1                         0   \n",
      "2491              68.68                           1                         0   \n",
      "2492              72.23                           1                         0   \n",
      "2493              69.36                           1                         0   \n",
      "\n",
      "      analysis_is_secondary  \n",
      "0                         0  \n",
      "1                         0  \n",
      "2                         0  \n",
      "3                         0  \n",
      "4                         0  \n",
      "...                     ...  \n",
      "2489                      0  \n",
      "2490                      0  \n",
      "2491                      0  \n",
      "2492                      0  \n",
      "2493                      0  \n",
      "\n",
      "[2494 rows x 27 columns]\n"
     ]
    }
   ],
   "source": [
    "# define the query\n",
    "query = f\"SELECT * FROM self_sufficiency_standard WHERE year == 2023 AND family_type = 'a1i0p0s0t0'\"\n",
    "\n",
    "# load data into a pandas DataFrame\n",
    "df = pd.read_sql_query(query, db.engine)\n",
    "\n",
    "# print the resulting DataFrame\n",
    "print(df)"
   ]
  },
  {
   "cell_type": "code",
   "execution_count": 4,
   "id": "67576ddf",
   "metadata": {},
   "outputs": [],
   "source": [
    "df.to_csv('/Users/anniekucklick/Library/CloudStorage/GoogleDrive-akuckl@uw.edu/Shared drives/CWW Team Drive/SSS/SSS_data/2023SingleAdult.csv', index=False)"
   ]
  },
  {
   "cell_type": "code",
   "execution_count": null,
   "id": "b9f700ca",
   "metadata": {},
   "outputs": [],
   "source": []
  }
 ],
 "metadata": {
  "kernelspec": {
   "display_name": "Python 3 (ipykernel)",
   "language": "python",
   "name": "python3"
  },
  "language_info": {
   "codemirror_mode": {
    "name": "ipython",
    "version": 3
   },
   "file_extension": ".py",
   "mimetype": "text/x-python",
   "name": "python",
   "nbconvert_exporter": "python",
   "pygments_lexer": "ipython3",
   "version": "3.11.0"
  }
 },
 "nbformat": 4,
 "nbformat_minor": 5
}
