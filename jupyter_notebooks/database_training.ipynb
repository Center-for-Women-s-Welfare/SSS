{
 "cells": [
  {
   "cell_type": "code",
   "execution_count": 1,
   "id": "cfb71671",
   "metadata": {},
   "outputs": [],
   "source": [
    "import pandas as pd\n",
    "import plotly.graph_objects as go\n",
    "import sss\n",
    "from sss import SSS, City, Report, GeoID\n",
    "from sss.base import DeclarativeDB"
   ]
  },
  {
   "cell_type": "code",
   "execution_count": 2,
   "id": "160ab98a",
   "metadata": {},
   "outputs": [],
   "source": [
    "# access the database\n",
    "db = DeclarativeDB(testing=False)\n",
    "\n",
    "# create a session \n",
    "session = db.sessionmaker()"
   ]
  },
  {
   "cell_type": "code",
   "execution_count": 3,
   "id": "bc772a52",
   "metadata": {},
   "outputs": [],
   "source": [
    "# get query from database, filtered by the state\n",
    "query = session.query(SSS).filter(SSS.state == 'WA')"
   ]
  },
  {
   "cell_type": "code",
   "execution_count": 13,
   "id": "370f45d8",
   "metadata": {},
   "outputs": [],
   "source": [
    "# montgomery_city_report = session.query(SSS, City, Report\n",
    "#  ).filter(SSS.place == 'Montgomery County'\n",
    "#  ).join(City, SSS.place == City.place\n",
    "#  ).join(Report, SSS.year == Report.year\n",
    "#  )\n",
    "\n",
    "montgomery_city_report = session.query(City\n",
    " ).filter(City.year == 'Montgomery County'\n",
    " ).join(City, SSS.place == City.place\n",
    " ).join(Report, SSS.year == Report.year\n",
    " )"
   ]
  },
  {
   "cell_type": "code",
   "execution_count": 14,
   "id": "098f5f6f",
   "metadata": {},
   "outputs": [],
   "source": [
    "df = pd.read_sql(montgomery_city_report.statement, db.engine)"
   ]
  },
  {
   "cell_type": "code",
   "execution_count": 15,
   "id": "ccb0c235",
   "metadata": {},
   "outputs": [
    {
     "name": "stdout",
     "output_type": "stream",
     "text": [
      "<bound method NDFrame.head of Empty DataFrame\n",
      "Columns: [family_type, state, place, year, analysis_type, adult, infant, preschooler, schoolager, teenager, weighted_child_count, housing, child_care, food, transportation, health_care, miscellaneous, taxes, earned_income_tax_credit, child_care_tax_credit, child_tax_credit, hourly_self_sufficiency_wage, monthly_self_sufficiency_wage, annual_self_sufficiency_wage, emergency_savings, miscellaneous_is_secondary, health_care_is_secondary, analysis_is_secondary, state_1, place_1, sss_city, census_name, population, public_transit, year_1, state_2, analysis_type_1, cpi_month, cpi_year, update_date, update_person]\n",
      "Index: []\n",
      "\n",
      "[0 rows x 41 columns]>\n"
     ]
    }
   ],
   "source": [
    "print(df.head)"
   ]
  }
 ],
 "metadata": {
  "kernelspec": {
   "display_name": "Python 3 (ipykernel)",
   "language": "python",
   "name": "python3"
  },
  "language_info": {
   "codemirror_mode": {
    "name": "ipython",
    "version": 3
   },
   "file_extension": ".py",
   "mimetype": "text/x-python",
   "name": "python",
   "nbconvert_exporter": "python",
   "pygments_lexer": "ipython3",
   "version": "3.10.11"
  }
 },
 "nbformat": 4,
 "nbformat_minor": 5
}
